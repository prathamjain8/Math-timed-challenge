{
 "cells": [
  {
   "cell_type": "code",
   "execution_count": 1,
   "id": "ed37ba02",
   "metadata": {},
   "outputs": [],
   "source": [
    "# The idea of this project is we generate a bunch of different math questions, ask the user those questions \n",
    "# and not let them continue untill they get correct, then calculate the time how it takes them to answer all of the \n",
    "# questions.\n",
    "# first thing we need to is randomly generate those problems\n",
    "# eval() function will evaluate a string as if it was a python expression \n",
    "# time.time() it returns the current time in seconds and we can calculate total time using this function"
   ]
  },
  {
   "cell_type": "code",
   "execution_count": 25,
   "id": "3dfceaba",
   "metadata": {},
   "outputs": [],
   "source": [
    "import random  # Use it here to randomly generate the operands\n",
    "import time   # used for time execution of a python statement or expression"
   ]
  },
  {
   "cell_type": "code",
   "execution_count": 30,
   "id": "327fa26e",
   "metadata": {},
   "outputs": [
    {
     "name": "stdout",
     "output_type": "stream",
     "text": [
      "Press enter to start!\n",
      "-----------------------\n",
      "Problem #1: 8 - 9 = -1\n",
      "Correct answer\n",
      "Problem #2: 18 - 16 = 2\n",
      "Correct answer\n",
      "Problem #3: 2 - 19 = -17\n",
      "Correct answer\n",
      "Problem #4: 3 - 18 = -15\n",
      "Correct answer\n",
      "Problem #5: 17 + 13 = 30\n",
      "Correct answer\n",
      "Problem #6: 8 + 11 = 19\n",
      "Correct answer\n",
      "Problem #7: 8 + 13 = 21\n",
      "Correct answer\n",
      "Problem #8: 8 + 12 = 20\n",
      "Correct answer\n",
      "Problem #9: 5 + 4 = 9\n",
      "Correct answer\n",
      "Problem #10: 15 * 8 = 120\n",
      "Correct answer\n",
      "-----------------------\n",
      "Nice Work! You finished in 48.39 seconds! and you give 0 wrong answers\n"
     ]
    }
   ],
   "source": [
    "OPERATORS = ['+', '-', '*']\n",
    "MIN_OPERAND = 1\n",
    "MAX_OPERAND = 20\n",
    "TOTAL_PROBLEMS = 10\n",
    "\n",
    "def generate_problem():    # This function generate a problem for us that use one of the operators and the a random operand from left and right side\n",
    "    left = random.randint(MIN_OPERAND, MAX_OPERAND)\n",
    "    right = random.randint(MIN_OPERAND, MAX_OPERAND)\n",
    "    \n",
    "    operator = random.choice(OPERATORS)\n",
    "    \n",
    "    expr = str(left) + \" \" +  operator + \" \" +str(right)\n",
    "    answer = eval(expr)  # it is a python function that evaluates a string expression as if it was a python expression\n",
    "    return expr, answer\n",
    "    \n",
    "wrong = 0\n",
    "input (\"Press enter to start!\")\n",
    "print(\"-----------------------\")\n",
    "\n",
    "# Now we have to determine the total number of problems, we then essentially need to set the timer when the user begins\n",
    "# and then ask them to answer it\n",
    "# After this we will set up the timer so we will start the timer as soon as the player is ready to start and them tell them\n",
    "# what was their time at the end\n",
    "\n",
    "start_time = time.time()   # it returns the current time in seconds\n",
    "\n",
    "for i in range(TOTAL_PROBLEMS):\n",
    "    expr, answer = generate_problem()\n",
    "    \n",
    "    while True:\n",
    "        guess = input(\"Problem #\" + str(i+1) + \": \" + expr + \" = \" )\n",
    "\n",
    "        if guess == str(answer):\n",
    "            print(\"Correct answer\")\n",
    "            break\n",
    "        else:\n",
    "            print(\"Wrong answer!! Try again\")\n",
    "            wrong += 1\n",
    "            continue\n",
    "            \n",
    "end_time = time.time()\n",
    "total_time = round(end_time - start_time, 2)\n",
    "    \n",
    "print(\"-----------------------\")\n",
    "print(\"Nice Work! You finished in \" + str(total_time) +\" seconds! and you give \" + str(wrong) + \" wrong answers\")"
   ]
  },
  {
   "cell_type": "markdown",
   "id": "6c43dfb3",
   "metadata": {},
   "source": [
    " "
   ]
  },
  {
   "cell_type": "code",
   "execution_count": null,
   "id": "a0b1015d",
   "metadata": {},
   "outputs": [],
   "source": []
  }
 ],
 "metadata": {
  "kernelspec": {
   "display_name": "Python 3 (ipykernel)",
   "language": "python",
   "name": "python3"
  },
  "language_info": {
   "codemirror_mode": {
    "name": "ipython",
    "version": 3
   },
   "file_extension": ".py",
   "mimetype": "text/x-python",
   "name": "python",
   "nbconvert_exporter": "python",
   "pygments_lexer": "ipython3",
   "version": "3.11.5"
  }
 },
 "nbformat": 4,
 "nbformat_minor": 5
}
